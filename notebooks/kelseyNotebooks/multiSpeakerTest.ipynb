{
 "cells": [
  {
   "cell_type": "code",
   "execution_count": null,
   "metadata": {},
   "outputs": [],
   "source": [
    "import torch\n",
    "from TTS.api import TTS\n",
    "\n",
    "# Get device\n",
    "device = \"cuda\" if torch.cuda.is_available() else \"cpu\"\n",
    "\n",
    "# List available 🐸TTS models\n",
    "print(TTS().list_models())\n",
    "\n",
    "# Init TTS\n",
    "tts = TTS(\"tts_models/multilingual/multi-dataset/xtts_v2\").to(device)"
   ]
  },
  {
   "cell_type": "code",
   "execution_count": null,
   "metadata": {},
   "outputs": [],
   "source": [
    "# Run TTS\n",
    "# ❗ Since this model is multi-lingual voice cloning model, we must set the target speaker_wav and language\n",
    "# Text to speech list of amplitude values as output\n",
    "wav = tts.tts(text=\"It seems to be...\", \n",
    "              speaker_wav=r\"D:\\kelse\\03_Repositories\\ITMTS\\kelseyTTS\\miniTTS\\kc-lib\\wavs\\10-10.throat_gargle_water-200106_1549-006.wav\", \n",
    "              language=\"en\")\n",
    "# Text to speech to a file\n",
    "tts.tts_to_file(text=\"It seems to be...\", \n",
    "                speaker_wav=r\"D:\\kelse\\03_Repositories\\ITMTS\\kelseyTTS\\miniTTS\\kc-lib\\wavs\\10-10.throat_gargle_water-200106_1549-006.wav\", \n",
    "                language=\"en\", \n",
    "                file_path=\"output.wav\")"
   ]
  }
 ],
 "metadata": {
  "kernelspec": {
   "display_name": "Python 3",
   "language": "python",
   "name": "python3"
  },
  "language_info": {
   "codemirror_mode": {
    "name": "ipython",
    "version": 3
   },
   "file_extension": ".py",
   "mimetype": "text/x-python",
   "name": "python",
   "nbconvert_exporter": "python",
   "pygments_lexer": "ipython3",
   "version": "3.10.13"
  }
 },
 "nbformat": 4,
 "nbformat_minor": 2
}
