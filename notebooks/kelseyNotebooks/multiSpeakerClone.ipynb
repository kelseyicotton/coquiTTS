{
 "cells": [
  {
   "cell_type": "code",
   "execution_count": 86,
   "metadata": {},
   "outputs": [
    {
     "name": "stdout",
     "output_type": "stream",
     "text": [
      "Imports done\n",
      " > tts_models/multilingual/multi-dataset/xtts_v2 is already downloaded.\n",
      " > Using model: xtts\n"
     ]
    }
   ],
   "source": [
    "# Imports\n",
    "import torch\n",
    "from TTS.api import TTS\n",
    "import os\n",
    "import csv\n",
    "import pandas as pd\n",
    "from datetime import datetime\n",
    "print(\"Imports done\")\n",
    "\n",
    "# Get device and init TTS\n",
    "device = \"cuda\" if torch.cuda.is_available() else \"cpu\"\n",
    "tts = TTS(\"tts_models/multilingual/multi-dataset/xtts_v2\").to(device)"
   ]
  },
  {
   "cell_type": "code",
   "execution_count": 93,
   "metadata": {},
   "outputs": [
    {
     "ename": "NameError",
     "evalue": "name 'r' is not defined",
     "output_type": "error",
     "traceback": [
      "\u001b[1;31m---------------------------------------------------------------------------\u001b[0m",
      "\u001b[1;31mNameError\u001b[0m                                 Traceback (most recent call last)",
      "Cell \u001b[1;32mIn[93], line 37\u001b[0m\n\u001b[0;32m     35\u001b[0m \u001b[38;5;66;03m# Set your CSV file path here\u001b[39;00m\n\u001b[0;32m     36\u001b[0m csv_path \u001b[38;5;241m=\u001b[39m \u001b[38;5;28minput\u001b[39m(\u001b[38;5;124m\"\u001b[39m\u001b[38;5;124mEnter the path to the CSV file: \u001b[39m\u001b[38;5;124m\"\u001b[39m)  \n\u001b[1;32m---> 37\u001b[0m csv_path \u001b[38;5;241m=\u001b[39m \u001b[43mr\u001b[49m(csv_path)\n\u001b[0;32m     39\u001b[0m \u001b[38;5;66;03m# csv_path = r\"D:\\kelse\\03_Repositories\\coquiTTS\\notebooks\\kelseyNotebooks\\audioTest\\metadata.csv\"  \u001b[39;00m\n\u001b[0;32m     40\u001b[0m \n\u001b[0;32m     41\u001b[0m \u001b[38;5;66;03m# Directory where metadata files are stored\u001b[39;00m\n\u001b[0;32m     42\u001b[0m metadata_dir \u001b[38;5;241m=\u001b[39m \u001b[38;5;28minput\u001b[39m(\u001b[38;5;124m\"\u001b[39m\u001b[38;5;124mEnter the path to the Audio Folder: \u001b[39m\u001b[38;5;124m\"\u001b[39m)  \n",
      "\u001b[1;31mNameError\u001b[0m: name 'r' is not defined"
     ]
    }
   ],
   "source": [
    "import pandas as pd\n",
    "import os\n",
    "\n",
    "def tts_csv(csv_path, metadata_dir):\n",
    "    # Load CSV\n",
    "    df = pd.read_csv(csv_path, sep=\"|\")\n",
    "    df.columns = df.columns.str.strip()\n",
    "\n",
    "    # Create output folder\n",
    "    output_folder = \"kc_SoundLib_csv_output\"\n",
    "    if not os.path.exists(output_folder):\n",
    "        os.makedirs(output_folder)\n",
    "\n",
    "    # Iterate through files in the audio folder\n",
    "    for filename in os.listdir(metadata_dir):\n",
    "        if filename.endswith(\".wav\"):  \n",
    "            speaker_wav = os.path.join(metadata_dir, filename)\n",
    "            \n",
    "            # Check if the filename is in the CSV\n",
    "            if os.path.splitext(filename)[0] in df[df.columns[0]].values:\n",
    "                # Get the corresponding text from the CSV based on the filename\n",
    "                norm_text = df.loc[df[df.columns[0]] == os.path.splitext(filename)[0], df.columns[2]].values[0]\n",
    "\n",
    "                # Run TTS\n",
    "                wav = tts.tts(text=norm_text, speaker_wav=speaker_wav, language=\"en\")\n",
    "                \n",
    "                # Construct the output file path for TTS audio\n",
    "                output_file_path = os.path.join(output_folder, os.path.splitext(filename)[0] + \"_TTS_output.wav\")\n",
    "            \n",
    "                # Save TTS audio to file\n",
    "                tts.tts_to_file(text=norm_text, speaker_wav=speaker_wav, language=\"en\", file_path=output_file_path)\n",
    "            else:\n",
    "                print(f\"Filename {filename} not found in the CSV.\")\n",
    "\n",
    "# Set your CSV file path here\n",
    "csv_path = input(\"Enter the path to the CSV file: \")  \n",
    "\n",
    "# csv_path = r\"D:\\kelse\\03_Repositories\\coquiTTS\\notebooks\\kelseyNotebooks\\audioTest\\metadata.csv\"  \n",
    "\n",
    "# Directory where metadata files are stored\n",
    "metadata_dir = input(\"Enter the path to the Audio Folder: \")  \n",
    "\n",
    "\n",
    "# metadata_dir = r\"D:\\kelse\\03_Repositories\\coquiTTS\\notebooks\\kelseyNotebooks\\audioTest\\wavs\"  \n",
    "\n",
    "# Run TTS on CSV\n",
    "tts_csv(csv_path, metadata_dir)\n"
   ]
  }
 ],
 "metadata": {
  "kernelspec": {
   "display_name": "Python 3",
   "language": "python",
   "name": "python3"
  },
  "language_info": {
   "codemirror_mode": {
    "name": "ipython",
    "version": 3
   },
   "file_extension": ".py",
   "mimetype": "text/x-python",
   "name": "python",
   "nbconvert_exporter": "python",
   "pygments_lexer": "ipython3",
   "version": "3.10.13"
  }
 },
 "nbformat": 4,
 "nbformat_minor": 2
}
